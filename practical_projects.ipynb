{
  "nbformat": 4,
  "nbformat_minor": 0,
  "metadata": {
    "colab": {
      "provenance": [],
      "authorship_tag": "ABX9TyPbA5feo5jjUi+xFUBz/CEo",
      "include_colab_link": true
    },
    "kernelspec": {
      "name": "python3",
      "display_name": "Python 3"
    },
    "language_info": {
      "name": "python"
    }
  },
  "cells": [
    {
      "cell_type": "markdown",
      "metadata": {
        "id": "view-in-github",
        "colab_type": "text"
      },
      "source": [
        "<a href=\"https://colab.research.google.com/github/lokesh-k-u/practical_projects/blob/main/practical_projects.ipynb\" target=\"_parent\"><img src=\"https://colab.research.google.com/assets/colab-badge.svg\" alt=\"Open In Colab\"/></a>"
      ]
    },
    {
      "cell_type": "code",
      "execution_count": null,
      "metadata": {
        "id": "YGHyEjCQRrLO"
      },
      "outputs": [],
      "source": []
    },
    {
      "cell_type": "markdown",
      "source": [
        "To learn data science using Python, you should cover the following topics:\n",
        "\n",
        "* **Python Fundamentals:**\n",
        "    * Variables and Data Types (Integers, Floats, Strings, Booleans, Lists, Tuples, Dictionaries, Sets)\n",
        "    * Operators (Arithmetic, Comparison, Logical, Assignment)\n",
        "    * Control Flow (if/elif/else, for loops, while loops)\n",
        "    * Functions (defining, calling, arguments, return values)\n",
        "    * Object-Oriented Programming (basic concepts like classes and objects can be helpful but not strictly necessary for initial learning)\n",
        "    * Error Handling (try-except blocks)\n",
        "    * File I/O (reading and writing text/CSV files)\n",
        "\n",
        "* **Numerical Computing with NumPy:**\n",
        "    * NumPy Arrays (creation, indexing, slicing)\n",
        "    * Array Operations (element-wise, broadcasting)\n",
        "    * Mathematical Functions\n",
        "    * Linear Algebra with NumPy\n",
        "\n",
        "* **Data Manipulation and Analysis with Pandas:**\n",
        "    * Series and DataFrames (creation, indexing, selecting data)\n",
        "    * Data Loading and Saving (CSV, Excel, SQL databases)\n",
        "    * Data Cleaning (handling missing values, duplicates)\n",
        "    * Data Transformation (filtering, sorting, grouping, merging, joining)\n",
        "    * Aggregation and Pivoting\n",
        "    * Time Series Analysis (basic operations)\n",
        "\n",
        "* **Data Visualization:**\n",
        "    * **Matplotlib:**\n",
        "        * Basic plotting (line plots, scatter plots, bar plots, histograms)\n",
        "        * Customization (titles, labels, legends, colors, markers)\n",
        "        * Subplots\n",
        "    * **Seaborn:**\n",
        "        * Statistical plots (distribution plots, relational plots, categorical plots)\n",
        "        * Heatmaps\n",
        "        * Facet Grids\n",
        "\n",
        "* **Machine Learning with Scikit-learn:**\n",
        "    * **Introduction to Machine Learning Concepts:**\n",
        "        * Supervised vs. Unsupervised Learning\n",
        "        * Regression vs. Classification\n",
        "        * Training, Validation, and Test Sets\n",
        "        * Overfitting and Underfitting\n",
        "    * **Data Preprocessing:**\n",
        "        * Feature Scaling (StandardScaler, MinMaxScaler)\n",
        "        * Encoding Categorical Variables (OneHotEncoder, LabelEncoder)\n",
        "        * Splitting Data\n",
        "    * **Supervised Learning Algorithms:**\n",
        "        * Linear Regression\n",
        "        * Logistic Regression\n",
        "        * Decision Trees\n",
        "        * Random Forests\n",
        "        * Support Vector Machines (SVMs)\n",
        "        * K-Nearest Neighbors (KNN)\n",
        "    * **Unsupervised Learning Algorithms (basic understanding):**\n",
        "        * K-Means Clustering\n",
        "        * Principal Component Analysis (PCA)\n",
        "    * **Model Evaluation:**\n",
        "        * Regression Metrics (MSE, RMSE, R-squared)\n",
        "        * Classification Metrics (Accuracy, Precision, Recall, F1-score, Confusion Matrix, ROC-AUC)\n",
        "    * **Model Selection and Hyperparameter Tuning:**\n",
        "        * Cross-Validation\n",
        "        * Grid Search, Randomized Search\n",
        "\n",
        "* **Introduction to Deep Learning (Optional but highly recommended for advanced topics):**\n",
        "    * Basic concepts of Neural Networks\n",
        "    * Introduction to libraries like TensorFlow or PyTorch (focus on understanding the basic building blocks)\n",
        "\n",
        "* **SQL (for data extraction and manipulation):**\n",
        "    * Basic queries (SELECT, FROM, WHERE, GROUP BY, ORDER BY)\n",
        "    * Joins (INNER JOIN, LEFT JOIN, RIGHT JOIN)\n",
        "\n",
        "* **Statistical Concepts (essential for understanding data science techniques):**\n",
        "    * Descriptive Statistics (mean, median, mode, standard deviation, variance)\n",
        "    * Probability Distributions (Normal, Binomial, Poisson)\n",
        "    * Hypothesis Testing (t-tests, chi-squared tests)\n",
        "    * Correlation and Covariance\n",
        "    * Regression (understanding the statistical basis)\n",
        "\n",
        "* **Version Control (Git/GitHub):**\n",
        "    * Basic commands (clone, add, commit, push, pull)\n",
        "    * Branching and merging (for collaborative projects)\n",
        "\n",
        "* **Jupyter Notebooks/JupyterLab:**\n",
        "    * Familiarity with using these environments for interactive data analysis and sharing code."
      ],
      "metadata": {
        "id": "V-SCgETzrxym"
      }
    },
    {
      "cell_type": "code",
      "source": [],
      "metadata": {
        "id": "DJ9RIqlS9iEB"
      },
      "execution_count": null,
      "outputs": []
    },
    {
      "cell_type": "markdown",
      "source": [
        "Working on the type conversion project.\n",
        "\n",
        " **Simple Calculator**\n",
        "\n",
        "This is a classic beginner project that heavily relies on converting user input into numbers.\n",
        "\n",
        "Project Idea: Create a command-line calculator that asks the user for two numbers and an operator (+, -, *, /), then performs the calculation and prints the result."
      ],
      "metadata": {
        "id": "zjrJ7N0SUtRA"
      }
    },
    {
      "cell_type": "code",
      "source": [
        "# Get the input from the user(which will be in the string)\n",
        "num1_str = input(\"Enter the first number: \")\n",
        "num2_str = input(\"Enter the second number: \")\n",
        "operator = input(\"choose any one operator from this [+, -, *, /]: \")\n",
        "\n",
        "# Conver the string in to numbers (float to handle the decimals)\n",
        "try:\n",
        "  num1 = float(num1_str)\n",
        "  num2 = float(num2_str)\n",
        "\n",
        "  # perform calculations based on the chossen operator\n",
        "  if operator == '+':\n",
        "    result = num1 + num2\n",
        "  elif operator == '-':\n",
        "    result = num1 - num2\n",
        "  elif operator == '*':\n",
        "    result = num1 * num2\n",
        "  elif operator == '/':\n",
        "    if num2 == 0:\n",
        "      result = \"Error: Division by zero is not allowed\"\n",
        "    else:\n",
        "      result = num1 / num2\n",
        "  else:\n",
        "    result = \"Error: Invalid operator chosen.\"\n",
        "\n",
        "  #print the result.\n",
        "  #we check if the result is a number before converting to a string for printing.\n",
        "  if isinstance(result, (int,float)):\n",
        "    print(\"the result is: \" + str(result))\n",
        "  else:\n",
        "    print(result)\n",
        "\n",
        "except ValueError:\n",
        "   print(\"Invalid input. Please enter numbers only.\")\n"
      ],
      "metadata": {
        "colab": {
          "base_uri": "https://localhost:8080/"
        },
        "id": "irmhm9-aU7V_",
        "outputId": "5175340a-9b6d-44fc-e19a-e0ccf1b73150"
      },
      "execution_count": null,
      "outputs": [
        {
          "output_type": "stream",
          "name": "stdout",
          "text": [
            "Enter the first number: a\n",
            "Enter the second number: b\n",
            "choose any one operator from this [+, -, *, /]: *\n",
            "Invalid input. Please enter numbers only.\n"
          ]
        }
      ]
    },
    {
      "cell_type": "code",
      "source": [],
      "metadata": {
        "id": "m505o-WMZjzH",
        "colab": {
          "base_uri": "https://localhost:8080/",
          "height": 141
        },
        "outputId": "c7467561-e1b4-49a8-a235-051c6c6c06ff"
      },
      "execution_count": null,
      "outputs": [
        {
          "output_type": "error",
          "ename": "NameError",
          "evalue": "name 'q' is not defined",
          "traceback": [
            "\u001b[0;31m---------------------------------------------------------------------------\u001b[0m",
            "\u001b[0;31mNameError\u001b[0m                                 Traceback (most recent call last)",
            "\u001b[0;32m/tmp/ipython-input-4-1908277992.py\u001b[0m in \u001b[0;36m<cell line: 0>\u001b[0;34m()\u001b[0m\n\u001b[0;32m----> 1\u001b[0;31m \u001b[0mfloat\u001b[0m\u001b[0;34m(\u001b[0m\u001b[0mq\u001b[0m\u001b[0;34m)\u001b[0m\u001b[0;34m\u001b[0m\u001b[0;34m\u001b[0m\u001b[0m\n\u001b[0m",
            "\u001b[0;31mNameError\u001b[0m: name 'q' is not defined"
          ]
        }
      ]
    },
    {
      "cell_type": "markdown",
      "source": [
        "🧮 **Mini Project**: Simple ATM Simulator\n",
        "\n",
        "🎯 **Objective**:\n",
        "Build a console-based ATM simulator that allows users to check balance, deposit, and withdraw money. You will use integers, variables, and basic I/O to manage account operations.\n",
        "\n",
        "🔧 Features to Include:\n",
        "\n",
        "Initial Balance – Set using an integer variable (e.g., balance = 1000)\n",
        "\n",
        "**Menu-driven options:**\n",
        "\n",
        "1)Check Balance\n",
        "\n",
        "2)Deposit Amount\n",
        "\n",
        "3)Withdraw Amount\n",
        "\n",
        "4)Exit\n",
        "\n",
        "\n",
        "Use **input()** to take user commands and amounts.\n",
        "\n",
        "Use integer operations for balance updates."
      ],
      "metadata": {
        "id": "tvz_HKf3sbFc"
      }
    },
    {
      "cell_type": "code",
      "source": [
        "balance = 1000 # initial balance.\n",
        "\n",
        "while True:\n",
        "  print(\"\\n ==== Wlcome to Simple ATM ====\")\n",
        "  print(\"1. Check Balance\")\n",
        "  print(\"2. Deposit\")\n",
        "  print(\"3. Withdraw\")\n",
        "  print(\"4. Exit\")\n",
        "\n",
        "  choice = int(input(\"Enter your choice (1-4): \"))\n",
        "\n",
        "  if choice == 1:\n",
        "    print(f\"Your current balance is: ₹{balance}\")\n",
        "\n",
        "  elif choice == 2:\n",
        "    deposit = int(input(\"Enter the amount to deposit: ₹\"))\n",
        "    balance += deposit\n",
        "    print(f\"{deposit} deposited sucessfully.\")\n",
        "\n",
        "  elif choice == 3:\n",
        "    withdraw = int(input(\"Enter amout to withdraw: ₹\"))\n",
        "    if withdraw <= balance:\n",
        "      balance -= withdraw\n",
        "      print(f\"{withdraw} withdrawn sucessfully.\")\n",
        "    else:\n",
        "      print('Insufficient funds!')\n",
        "  elif choice == 4:\n",
        "    print(\"Thanks for using our ATM. Goodbye!\")\n",
        "    break\n",
        "  else:\n",
        "    print(\"Invalid option. try again.\")"
      ],
      "metadata": {
        "colab": {
          "base_uri": "https://localhost:8080/"
        },
        "id": "rQC4O0IAsdCV",
        "outputId": "0d27232b-f92a-44ea-e3b9-75c58dd148ae"
      },
      "execution_count": null,
      "outputs": [
        {
          "output_type": "stream",
          "name": "stdout",
          "text": [
            "\n",
            " ==== Wlcome to Simple ATM ====\n",
            "1. Check Balance\n",
            "2. Deposit\n",
            "3. Withdraw\n",
            "4. Exit\n",
            "Enter your choice (1-4): 1\n",
            "Your current balance is: ₹1000\n",
            "\n",
            " ==== Wlcome to Simple ATM ====\n",
            "1. Check Balance\n",
            "2. Deposit\n",
            "3. Withdraw\n",
            "4. Exit\n",
            "Enter your choice (1-4): 3\n",
            "Enter amout to withdraw: ₹1001\n",
            "Insufficient funds!\n",
            "\n",
            " ==== Wlcome to Simple ATM ====\n",
            "1. Check Balance\n",
            "2. Deposit\n",
            "3. Withdraw\n",
            "4. Exit\n",
            "Enter your choice (1-4): 4\n",
            "Thanks for using our ATM. Goodbye!\n"
          ]
        }
      ]
    },
    {
      "cell_type": "markdown",
      "source": [
        "🧾 **Mini Project**: Grocery Bill Calculator\n",
        "🎯 **Objective**:\n",
        "Create a console-based app that calculates the total bill (including tax) for items purchased at a grocery store. You'll use float variables for prices, quantities, and tax calculations.\n",
        "\n",
        "🔧 Features:\n",
        "\n",
        "1)Take user input for:\n",
        "\n",
        "    a)Item name (optional)\n",
        "\n",
        "    b)Price per unit (float)\n",
        "\n",
        "    c)Quantity (float)\n",
        "\n",
        "2)Calculate the total cost for each item.\n",
        "\n",
        "3)Add GST/tax (e.g., 5%) to the total bill.\n",
        "\n",
        "4)Show the final bill amount with 2 decimal places."
      ],
      "metadata": {
        "id": "0l7nuGbM9jfq"
      }
    },
    {
      "cell_type": "code",
      "source": [
        "print(\"==== Grocery Bill Calculator ====\")\n",
        "\n",
        "# Input for 2 items\n",
        "price1 = float(input(\"Enter the price of item 1: \"))\n",
        "qty1 =  float(input(\"Enter the quantity of item 1: \"))\n",
        "\n",
        "price2 = float(input(\"Enter the price of item 2: \"))\n",
        "qty2 =  float(input(\"Enter the quantity of item 2: \"))\n",
        "\n",
        "# Calculate the individual total.\n",
        "total1 =  price1 * qty1\n",
        "total2 = price2 * qty2\n",
        "\n",
        "# Subtotal before tax\n",
        "subtotal = total1 + total2\n",
        "\n",
        "# GST 5%\n",
        "\n",
        "gst = 0.05 * subtotal\n",
        "\n",
        "#Final Bill\n",
        "\n",
        "final_total = subtotal + gst\n",
        "\n",
        "#Display result\n",
        "\n",
        "print(f\"\\nSubtotal: {subtotal:.2f}\")\n",
        "print(f\"GST: {gst:.2f}\")\n",
        "print(f\"Total bill to pay: {final_total:.2f}\")\n"
      ],
      "metadata": {
        "colab": {
          "base_uri": "https://localhost:8080/"
        },
        "id": "x6RAtonX95wK",
        "outputId": "20858207-749e-43e0-cbf4-8b7dbc5bb876"
      },
      "execution_count": null,
      "outputs": [
        {
          "output_type": "stream",
          "name": "stdout",
          "text": [
            "==== Grocery Bill Calculator ====\n",
            "Enter the price of item 1: 15\n",
            "Enter the quantity of item 1: 2\n",
            "Enter the price of item 2: 28\n",
            "Enter the quantity of item 2: 1\n",
            "\n",
            "Subtotal: 58.00\n",
            "GST: 2.90\n",
            "Total bill to pay: 60.90\n"
          ]
        }
      ]
    },
    {
      "cell_type": "markdown",
      "source": [
        "📝 **Mini Project**: Simple User Profile Generator\n",
        "\n",
        "🎯 **Objective**:\n",
        "Create a basic console app that collects user details as strings and generates a small profile description.\n",
        "\n",
        "🔧 Features:\n",
        "Input from the user:\n",
        "\n",
        "    First name\n",
        "\n",
        "    Last name\n",
        "\n",
        "    Age (stored as string for simplicity)\n",
        "\n",
        "    City\n",
        "\n",
        "    Hobby\n",
        "\n",
        "Combine strings using concatenation and string formatting.\n",
        "\n",
        "Display a user profile in a sentence format."
      ],
      "metadata": {
        "id": "8zDtz3wNBDq1"
      }
    },
    {
      "cell_type": "code",
      "source": [
        "print(\"==== User Profile Generator ====\")\n",
        "\n",
        "first_name = input(\"Enter your first name: \")\n",
        "last_name =  input(\"Enter your last name: \")\n",
        "age =  input(\"Enter your age: \")\n",
        "city =  input(\"Enter your city: \")\n",
        "hobby = input(\"Enter your Favorite hobby: \")\n",
        "\n",
        "# Sring concatination and formatting\n",
        "\n",
        "full_name = first_name +  \" \" + last_name\n",
        "profile = f\"\\nHi, I'm {full_name}. I'm {age} Years old and I live in {city}.\\nIn my free time, I enjoy {hobby} \"\n",
        "\n",
        "print(profile)\n"
      ],
      "metadata": {
        "colab": {
          "base_uri": "https://localhost:8080/"
        },
        "id": "BN6UvrKj-vsP",
        "outputId": "08fe55ac-0155-4b42-a144-66ca72074466"
      },
      "execution_count": null,
      "outputs": [
        {
          "output_type": "stream",
          "name": "stdout",
          "text": [
            "==== User Profile Generator ====\n",
            "Enter your first name: Lokesh\n",
            "Enter your last name: K U\n",
            "Enter your age: 28\n",
            "Enter your city: Bangalore\n",
            "Enter your Favorite hobby: Reading\n",
            "\n",
            "Hi, I'm Lokesh K U. I'm 28 Years old and I live in Bangalore.\n",
            "In my free time, I enjoy Reading \n"
          ]
        }
      ]
    },
    {
      "cell_type": "markdown",
      "source": [
        "🔐 **Mini Project**: Simple Login System\n",
        "\n",
        "🎯 **Objective**:\n",
        "Simulate a login system where a user enters a username and password. The program checks if the credentials are correct using boolean logic.\n",
        "\n",
        "🔧 Features:\n",
        "   \n",
        "    Predefined username and password\n",
        "\n",
        "    Take input from the user\n",
        "\n",
        "    Use boolean variables to check if both inputs match\n",
        "\n",
        "    Print appropriate login success or failure message"
      ],
      "metadata": {
        "id": "DOfiDAuoGGOx"
      }
    },
    {
      "cell_type": "code",
      "source": [
        "print(\"==== Simple login system ====\")\n",
        "\n",
        "# Predefined cradentials\n",
        "correct_username = \"admin\"\n",
        "correct_password = \"1234\"\n",
        "\n",
        "# Take input from user\n",
        "user =  input(\"Enter user name: \")\n",
        "password = input(\"Enter password: \")\n",
        "\n",
        "# Boolean check\n",
        "is_user_name_correct = correct_username == user\n",
        "is_user_password_correct =  correct_password == password\n",
        "\n",
        "# Final condition\n",
        "\n",
        "is_login_successful =  is_user_password_correct and is_user_name_correct\n",
        "\n",
        "# Output result\n",
        "\n",
        "if is_login_successful:\n",
        "  print(\"Login Sucessful 😁\")\n",
        "else:\n",
        "  print(\"Login failed ❌ Check your username and password.\")"
      ],
      "metadata": {
        "colab": {
          "base_uri": "https://localhost:8080/"
        },
        "id": "OvDIr5HkEg1q",
        "outputId": "f5f5ffd4-4821-470d-d664-2000807114d4"
      },
      "execution_count": null,
      "outputs": [
        {
          "output_type": "stream",
          "name": "stdout",
          "text": [
            "==== Simple login system ====\n",
            "Enter user name: lokesh\n",
            "Enter password: 1234\n",
            "Login failed ❌ Check your username and password.\n"
          ]
        }
      ]
    },
    {
      "cell_type": "markdown",
      "source": [
        "🛒 **Mini Project**: To-Do List Manager\n",
        "\n",
        "🎯 **Objective**:\n",
        "Create a simple To-Do List app where users can add, view, and remove tasks using a Python list.\n",
        "\n",
        "🔧 Features:\n",
        "    \n",
        "    Create an empty list to store tasks.\n",
        "\n",
        "    Use a menu to allow:\n",
        "\n",
        "    Adding a task\n",
        "\n",
        "    Viewing all tasks\n",
        "\n",
        "    Removing a task by name or index\n",
        "\n",
        "    Exiting the program\n",
        "\n",
        "    Use list methods: append(), remove(), pop(), len()"
      ],
      "metadata": {
        "id": "ZVFRHU-QSOj4"
      }
    },
    {
      "cell_type": "code",
      "source": [
        "print(\" ==== To-Do List Manager ==== \")\n",
        "todo_list = []\n",
        "\n",
        "while True:\n",
        "  print(\"\\n1. Add Task\")\n",
        "  print(\"2. View Tasks\")\n",
        "  print(\"3. Remove Tasks\")\n",
        "  print(\"4. Exit\")\n",
        "\n",
        "  choice =  input(\"Enter your choice (1-4): \")\n",
        "\n",
        "  if choice == '1':\n",
        "    task = input(\"Enter Task to add: \")\n",
        "    todo_list.append(task)\n",
        "    print(\"Task added.\")\n",
        "\n",
        "  elif choice == '2':\n",
        "\n",
        "    if len(todo_list) == 0:\n",
        "      print(\"No tasks yet.\")\n",
        "\n",
        "    else:\n",
        "      print(\"\\n Your To-Do List: \")\n",
        "\n",
        "      for i, task in enumerate(todo_list):\n",
        "        print(f\"{i+1}. {task}\")\n",
        "\n",
        "  elif choice == \"3\":\n",
        "    task_to_remove = input(\"Enter task name to remove: \")\n",
        "\n",
        "    if task_to_remove in todo_list:\n",
        "      todo_list.remove(task_to_remove)\n",
        "      print(\"Task removed.\")\n",
        "    else:\n",
        "      print(\"Task Not Found.\")\n",
        "\n",
        "  elif choice == '4':\n",
        "    print(\"Exit To-Do List. Goodbye!\")\n",
        "    break\n",
        "\n",
        "  else:\n",
        "    print(\"Invalid choice. Try again.\")\n"
      ],
      "metadata": {
        "colab": {
          "base_uri": "https://localhost:8080/"
        },
        "id": "aGUOT85iPZU5",
        "outputId": "95aae86e-8651-4bc8-f106-149f3cc04cae"
      },
      "execution_count": null,
      "outputs": [
        {
          "output_type": "stream",
          "name": "stdout",
          "text": [
            " ==== To-Do List Manager ==== \n",
            "\n",
            "1. Add Task\n",
            "2. View Tasks\n",
            "3. Remove Tasks\n",
            "4. Exit\n",
            "Enter your choice (1-4): 4\n",
            "Exit To-Do List. Goodbye!\n"
          ]
        }
      ]
    },
    {
      "cell_type": "markdown",
      "source": [
        "🎟️ **Mini Project**: Movie Ticket Info System\n",
        "\n",
        "🎯 **Objective**:\n",
        "Store and display movie details using tuples. Practice accessing and working with immutable data.\n",
        "\n",
        "**🔧 Features**:\n",
        "    \n",
        "    Store each movie as a tuple:\n",
        "    (movie_name, genre, duration_in_mins, rating)\n",
        "\n",
        "    Create a list of movie tuples.\n",
        "\n",
        "    Display all movies in a user-friendly format.\n",
        "\n",
        "    Allow the user to search for movies by genre or rating."
      ],
      "metadata": {
        "id": "lHW33yQP4j-B"
      }
    },
    {
      "cell_type": "code",
      "source": [
        "print(\"==== Movie Ticket Info System ====\")\n",
        "\n",
        "# List of movie tuples\n",
        "movies = [\n",
        "    (\"Inception\", \"Sci-Fi\", 148, 8.8),\n",
        "    (\"The Godfather\", \"Crime\", 175, 9.2),\n",
        "    (\"Interstellar\", \"Sci-Fi\", 169, 8.6),\n",
        "    (\"Finding Nemo\", \"Animation\", 100, 8.1),\n",
        "]\n",
        "\n",
        "# Display all movies\n",
        "print(\"\\nAvailable Movies: \")\n",
        "print()\n",
        "for movie in movies:\n",
        "  name, genre, duration, rating = movie\n",
        "  print(f\"{name} | {genre} | {duration} | mins | Rating: {rating}⭐\" )\n",
        "\n",
        "#Search by genre\n",
        "serach_genre = input(\"\\n Enter genre to search (e.g., Sci-Fi): \")\n",
        "\n",
        "print(f\"\\nMovies in genre '{serach_genre}':\")\n",
        "found = False\n",
        "for movie in movies:\n",
        "  if movie[1].lower() == serach_genre.lower():\n",
        "    print(f\"-> {movie[0]} ({movie[3]})\")\n",
        "    found = True\n",
        "\n",
        "if not found:\n",
        "  print(\"No movies found in that genre.\")\n",
        "\n"
      ],
      "metadata": {
        "colab": {
          "base_uri": "https://localhost:8080/"
        },
        "id": "FuVdLwwxsqE_",
        "outputId": "6206bc4c-4725-47c0-e96c-22e09ff9b435"
      },
      "execution_count": null,
      "outputs": [
        {
          "output_type": "stream",
          "name": "stdout",
          "text": [
            "==== Movie Ticket Info System ====\n",
            "\n",
            "Available Movies: \n",
            "\n",
            "Inception | Sci-Fi | 148 | mins | Rating: 8.8⭐\n",
            "The Godfather | Crime | 175 | mins | Rating: 9.2⭐\n",
            "Interstellar | Sci-Fi | 169 | mins | Rating: 8.6⭐\n",
            "Finding Nemo | Animation | 100 | mins | Rating: 8.1⭐\n",
            "\n",
            " Enter genre to search (e.g., Sci-Fi): horror\n",
            "\n",
            "Movies in genre 'horror':\n",
            "No movies found in that genre.\n"
          ]
        }
      ]
    },
    {
      "cell_type": "markdown",
      "source": [
        "📖 **Mini Project**: Student Report Card Generator\n",
        "\n",
        "🎯 **Objective**:\n",
        "Build a console-based app to store and manage student details and marks using dictionaries.\n",
        "\n",
        "🔧 **Features**:\n",
        "    \n",
        "    Each student is stored as a dictionary:\n",
        "\n",
        "\n",
        "    student = {\n",
        "        \"name\": \"John\",\n",
        "        \"math\": 88,\n",
        "        \"science\": 92,\n",
        "        \"english\": 85\n",
        "    }\n",
        "\n",
        "    Add multiple students using a list of dictionaries.\n",
        "\n",
        "    Display each student's report with total and average.\n",
        "\n",
        "    Allow searching for a student by name.\n",
        "\n"
      ],
      "metadata": {
        "id": "mrXYUJk9Id1t"
      }
    },
    {
      "cell_type": "code",
      "source": [
        "print(\" ==== Student Report Card Generator ====\")\n",
        "\n",
        "# List to hold student dictionaries\n",
        "students = []\n",
        "\n",
        "#Add students\n",
        "for i in range(2):\n",
        "  print(f\"\\nEnter details for the student {i+1}\")\n",
        "  name = input(\"Name: \")\n",
        "  math = int(input(\"Math Marks: \"))\n",
        "  science  = int(input(\"Science Marks: \"))\n",
        "  english = int(input(\"English Marks: \"))\n",
        "\n",
        "  student = {\n",
        "      \"name\" : name ,\n",
        "      \"math\" : math ,\n",
        "      \"science\" : science,\n",
        "      \"english\"  : english\n",
        "\n",
        "  }\n",
        "  students.append(student)\n",
        "\n",
        "# Display reports\n",
        "print(\"\\n --- Report Cards ---\")\n",
        "for s in students:\n",
        "  total = s[\"math\"] + s[\"science\"] + s[\"english\"]\n",
        "  average = total / 3\n",
        "  print(f\"\\nName: {s['name']}\")\n",
        "  print(f\"Math: {s['math']} , Science: {s['science']} , English: {s['english']}\")\n",
        "  print(f\"Total: {total}, Average:{average:.2f}\")\n"
      ],
      "metadata": {
        "colab": {
          "base_uri": "https://localhost:8080/"
        },
        "id": "ygJiDm92supJ",
        "outputId": "ed57d774-847b-41ca-de20-baedd98d1f4e"
      },
      "execution_count": null,
      "outputs": [
        {
          "output_type": "stream",
          "name": "stdout",
          "text": [
            " ==== Student Report Card Generator ====\n",
            "\n",
            "Enter details for the student 1\n",
            "Name: loki\n",
            "Math Marks: 61\n",
            "Science Marks: 91\n",
            "English Marks: 100\n",
            "\n",
            "Enter details for the student 2\n",
            "Name: chai\n",
            "Math Marks: 100\n",
            "Science Marks: 100\n",
            "English Marks: 99\n",
            "\n",
            " --- Report Cards ---\n",
            "\n",
            "Name: loki\n",
            "Math: 61 , Science: 91 , English: 100\n",
            "Total: 252, Average:84.00\n",
            "\n",
            "Name: chai\n",
            "Math: 100 , Science: 100 , English: 99\n",
            "Total: 299, Average:99.67\n"
          ]
        }
      ]
    },
    {
      "cell_type": "markdown",
      "source": [
        "🔰 **Project**: Unique Hobbies Collector\n",
        "\n",
        "🎯 **Goal**:\n",
        "Create a program that takes hobbies from different users and displays a set of unique hobbies.\n",
        "\n",
        "**🧱 Concepts Covered:**\n",
        "\n",
        "    Sets (set())\n",
        "\n",
        "    Variables\n",
        "\n",
        "    Data types (string, set)\n",
        "\n",
        "    User input\n",
        "\n",
        "    Loops"
      ],
      "metadata": {
        "id": "z_bbam2BqxR5"
      }
    },
    {
      "cell_type": "markdown",
      "source": [],
      "metadata": {
        "id": "JAvW6G0fURG1"
      }
    },
    {
      "cell_type": "code",
      "source": [
        "# Create a empty set to store the uniqe hobbies.\n",
        "unique_hobbies = set()\n",
        "\n",
        "# Ask how many user will enter there hobbies.\n",
        "num_users = int(input(\"Enter number of users: \"))\n",
        "\n",
        "# Loop through each user.\n",
        "for i in range(num_users):\n",
        "  hobbies =  input(f\"Enter the hobbies {i+1} (comma-separated):\")\n",
        "\n",
        "  # Convert the input to set and clean the whie space.\n",
        "  hobby_list = {hobby.strip() for hobby in hobbies.split(\",\")}\n",
        "\n",
        "\n",
        "  # Add hobbies to the main set.\n",
        "  unique_hobbies.update(hobby_list)\n",
        "\n",
        "print(\"\\nEnter Unique Hobbies\")\n",
        "for hobby in unique_hobbies:\n",
        "  print(\"->\", hobby)\n",
        "\n"
      ],
      "metadata": {
        "id": "0TfpzCo8LNN2",
        "colab": {
          "base_uri": "https://localhost:8080/"
        },
        "outputId": "837b1051-1b50-484d-a09d-255e2631b6c6"
      },
      "execution_count": 2,
      "outputs": [
        {
          "output_type": "stream",
          "name": "stdout",
          "text": [
            "Enter number of users: 2\n",
            "Enter the hobbies 1 (comma-separated):reading, cooking\n",
            "Enter the hobbies 2 (comma-separated):cooking, watching \n",
            "\n",
            "Enter Unique Hobbies\n",
            "-> cooking\n",
            "-> watching\n",
            "-> reading\n"
          ]
        }
      ]
    },
    {
      "cell_type": "markdown",
      "source": [
        "🎯 **Project** Title: Simple Calculator App\n",
        "\n",
        "💡 **Objective**:\n",
        "Practice using arithmetic operators (+, -, *, /, //, %, **) by building an interactive calculator.\n",
        "\n",
        "**🔧 Features to Include:**\n",
        "\n",
        "    Ask the user to input two numbers.\n",
        "\n",
        "    Ask which operation they want to perform.\n",
        "\n",
        "    Use the appropriate operator based on their choice.\n",
        "\n",
        "    Display the result.\n",
        "\n",
        "    Repeat the process until the user decides to exit."
      ],
      "metadata": {
        "id": "Tlw9Am450dLp"
      }
    },
    {
      "cell_type": "code",
      "source": [
        "print(\"Welcome To Simple Calculator\")\n",
        "\n",
        "while True:\n",
        "  num1 = float(input(\"Enter the first number: \"))\n",
        "  num2 = float(input(\"Enter the second number: \"))\n",
        "\n",
        "  print(\"Select Operator: \")\n",
        "  print(\"1. Addition (+)\")\n",
        "  print(\"2. Subtraction (-)\")\n",
        "  print(\"3. Multiplication (*)\")\n",
        "  print(\"4. Division (/)\")\n",
        "  print(\"5. Floor Division (//)\")\n",
        "  print(\"6. Modulus (%)\")\n",
        "  print(\"7. Exponent (**)\")\n",
        "\n",
        "  choice = input(\"Enter your choice (1-7): \")\n",
        "\n",
        "  if choice == '1':\n",
        "    print(f\"Result is {num1+num2}\")\n",
        "\n",
        "  elif choice == '2':\n",
        "    print(f\"Result is {num1-num2}\")\n",
        "\n",
        "  elif choice == '3':\n",
        "    print(f\"Result is {num1*num2}\")\n",
        "\n",
        "  elif choice == '4':\n",
        "    if num2 != 0:\n",
        "      print(f\"Result is {num1 / num2}\")\n",
        "    else:\n",
        "      print(\"Error: Division by zero.\")\n",
        "\n",
        "  elif choice == '5':\n",
        "    print(f\"Result is {num1 // num2}\")\n",
        "\n",
        "  elif choice == '6':\n",
        "    print(f\"Result is {num1 % num2}\")\n",
        "\n",
        "  elif choice == '7':\n",
        "    print(f\"Result is {num1 ** num2}\")\n",
        "\n",
        "  else:\n",
        "    print(\"Invalid choice\")\n",
        "\n",
        "  again = input(\"Do you want to perform another operation (yes/no): \")\n",
        "  if again.lower() != 'yes':\n",
        "    print(\"Thanks for for using the calculator\")\n",
        "    break\n"
      ],
      "metadata": {
        "id": "h01GAJMnLRXe",
        "colab": {
          "base_uri": "https://localhost:8080/"
        },
        "outputId": "abdcb175-b162-4531-eeb9-d152296512d0"
      },
      "execution_count": 3,
      "outputs": [
        {
          "output_type": "stream",
          "name": "stdout",
          "text": [
            "Welcome To Simple Calculator\n",
            "Enter the first number: 10\n",
            "Enter the second number: 2\n",
            "Select Operator: \n",
            "1. Addition (+)\n",
            "2. Subtraction (-)\n",
            "3. Multiplication (*)\n",
            "4. Division (/)\n",
            "5. Floor Division (//)\n",
            "6. Modulus (%)\n",
            "7. Exponent (**)\n",
            "Enter your choice (1-7): 7\n",
            "Result is 100.0\n",
            "Do you want to perform another operation (yes/no): yes\n",
            "Enter the first number: 50\n",
            "Enter the second number: 10\n",
            "Select Operator: \n",
            "1. Addition (+)\n",
            "2. Subtraction (-)\n",
            "3. Multiplication (*)\n",
            "4. Division (/)\n",
            "5. Floor Division (//)\n",
            "6. Modulus (%)\n",
            "7. Exponent (**)\n",
            "Enter your choice (1-7): 2\n",
            "Result is 40.0\n",
            "Do you want to perform another operation (yes/no): no\n",
            "Thanks for for using the calculator\n"
          ]
        }
      ]
    }
  ]
}